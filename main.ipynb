{
 "cells": [
  {
   "cell_type": "code",
   "execution_count": null,
   "metadata": {},
   "outputs": [],
   "source": [
    "!pip install -q gspread"
   ]
  },
  {
   "cell_type": "code",
   "execution_count": null,
   "metadata": {},
   "outputs": [],
   "source": [
    "import json \n",
    "from datetime import datetime\n",
    "\n",
    "import gspread\n",
    "import matplotlib.dates as mdates\n",
    "import numpy as np\n",
    "import pandas as pd\n",
    "import plotly.graph_objects as go"
   ]
  },
  {
   "cell_type": "code",
   "execution_count": null,
   "metadata": {},
   "outputs": [],
   "source": [
    "with open('config.json', 'r') as f:\n",
    "    config = json.load(f)"
   ]
  },
  {
   "cell_type": "code",
   "execution_count": null,
   "metadata": {},
   "outputs": [],
   "source": [
    "import boto3\n",
    "from botocore.exceptions import ClientError\n",
    "\n",
    "def get_secret():\n",
    "    secret_name = config['serviceName']\n",
    "    region_name = config['regionName']\n",
    "\n",
    "    # Create a Secrets Manager client\n",
    "    session = boto3.session.Session()\n",
    "    client = session.client(\n",
    "        service_name='secretsmanager',\n",
    "        region_name=region_name\n",
    "    )\n",
    "\n",
    "    try:\n",
    "        get_secret_value_response = client.get_secret_value(\n",
    "            SecretId=secret_name\n",
    "        )\n",
    "    except ClientError as e:\n",
    "        raise e\n",
    "\n",
    "    # Decrypts secret using the associated KMS key.\n",
    "    secret = get_secret_value_response['SecretString']\n",
    "    secret_dict = json.loads(secret)\n",
    "\n",
    "    return secret_dict"
   ]
  },
  {
   "cell_type": "code",
   "execution_count": null,
   "metadata": {},
   "outputs": [],
   "source": [
    "current_month = int(datetime.now().strftime('%m'))\n",
    "current_year = int(datetime.now().strftime('%Y'))\n",
    "\n",
    "#connect to the service account\n",
    "gc = gspread.service_account_from_dict(get_secret())"
   ]
  },
  {
   "cell_type": "code",
   "execution_count": null,
   "metadata": {},
   "outputs": [],
   "source": [
    "file = gc.open(\n",
    "    title=config['gSheetName']\n",
    ")\n",
    "\n",
    "df_list = []\n",
    "for sheet in config['sheetNames']:\n",
    "    curr_sheet = file.worksheet(sheet)\n",
    "    curr_df = pd.DataFrame(curr_sheet.get_all_records(head=3))\n",
    "    df_list.append(curr_df)\n",
    "\n",
    "df = pd.concat(df_list)"
   ]
  },
  {
   "cell_type": "code",
   "execution_count": null,
   "metadata": {},
   "outputs": [],
   "source": [
    "df = df[df['TYPE'] != 'Transfer']\n",
    "df['YEAR'] = df['DATE'].str[:4].astype(int)\n",
    "df['MONTH'] = df['DATE'].str[5:7].astype(int)\n",
    "df.sort_values(by=['DATE'], inplace=True)\n",
    "df.reset_index(drop=True, inplace=True)"
   ]
  },
  {
   "cell_type": "markdown",
   "metadata": {},
   "source": [
    "## Spending per Month"
   ]
  },
  {
   "cell_type": "code",
   "execution_count": null,
   "metadata": {},
   "outputs": [],
   "source": [
    "df_spendings = df[df['AMOUNT'] < 0].groupby(['YEAR', 'MONTH'])['AMOUNT'].sum().reset_index().tail(12)\n",
    "df_spendings"
   ]
  },
  {
   "cell_type": "code",
   "execution_count": null,
   "metadata": {},
   "outputs": [],
   "source": [
    "fig = go.Figure()\n",
    "fig.add_trace(go.Bar(\n",
    "    x=[f\"{year}/{month}\" for year, month in zip(df_spendings['YEAR'], df_spendings['MONTH'])],\n",
    "    y=df_spendings['AMOUNT'],\n",
    "    width=0.1,\n",
    "    text=df_spendings['AMOUNT'],\n",
    "    textposition='auto'\n",
    "))\n",
    "fig.show()"
   ]
  },
  {
   "cell_type": "markdown",
   "metadata": {},
   "source": [
    "## Cumsum per Month => Wallet value"
   ]
  },
  {
   "cell_type": "code",
   "execution_count": null,
   "metadata": {},
   "outputs": [],
   "source": [
    "df['TREND'] = df['AMOUNT'].cumsum()\n",
    "\n",
    "x = mdates.date2num(df['DATE'])\n",
    "z = np.polyfit(\n",
    "    x, \n",
    "    df['TREND'], \n",
    "    1\n",
    ")\n",
    "p = np.poly1d(z)\n",
    "\n",
    "df['TREND_VAL'] = p(x)"
   ]
  },
  {
   "cell_type": "code",
   "execution_count": null,
   "metadata": {},
   "outputs": [],
   "source": [
    "df_trend = df.groupby(['DATE']).agg({'TREND': 'max', 'TREND_VAL': 'max'}).reset_index()\n",
    "slope = np.round(\n",
    "    z[0] / df_trend['TREND'].iloc[0] * 100,\n",
    "    2\n",
    ")\n",
    "\n",
    "fig = go.Figure()\n",
    "fig.add_trace(go.Scatter(\n",
    "    x=df_trend['DATE'],\n",
    "    y=df_trend['TREND'],\n",
    "    name='cumsum'\n",
    "))\n",
    "\n",
    "fig.add_trace(go.Scatter(\n",
    "    x=df_trend['DATE'],\n",
    "    y=df_trend['TREND_VAL'],\n",
    "    name=f'trendline {slope}'\n",
    "))\n",
    "fig.show()"
   ]
  },
  {
   "cell_type": "markdown",
   "metadata": {},
   "source": [
    "### Cumsum per month"
   ]
  },
  {
   "cell_type": "code",
   "execution_count": null,
   "metadata": {},
   "outputs": [],
   "source": [
    "df_cumsum_month = df.groupby(['YEAR', 'MONTH'])['AMOUNT'].sum().groupby(level=0).cumsum().reset_index().tail(12)\n",
    "df_cumsum_month"
   ]
  },
  {
   "cell_type": "markdown",
   "metadata": {},
   "source": [
    "## Spendig per Category in the last month"
   ]
  },
  {
   "cell_type": "code",
   "execution_count": null,
   "metadata": {},
   "outputs": [],
   "source": [
    "df_category = df[(df['YEAR'] == current_year) & (df['MONTH'] == current_month) & (df['AMOUNT'] < 0)].groupby('TYPE')['AMOUNT'].sum().reset_index()\n",
    "df_category['AMOUNT'] = df_category['AMOUNT'] * -1\n",
    "\n",
    "df_category.sort_values(by='AMOUNT', ascending=False).reset_index(drop=True)"
   ]
  },
  {
   "cell_type": "code",
   "execution_count": null,
   "metadata": {},
   "outputs": [],
   "source": [
    "fig = go.Figure()\n",
    "fig.add_trace(go.Pie(\n",
    "    values=df_category['AMOUNT'],\n",
    "    labels=df_category['TYPE']\n",
    "))\n",
    "fig.show()"
   ]
  }
 ],
 "metadata": {
  "kernelspec": {
   "display_name": ".venv",
   "language": "python",
   "name": "python3"
  },
  "language_info": {
   "codemirror_mode": {
    "name": "ipython",
    "version": 3
   },
   "file_extension": ".py",
   "mimetype": "text/x-python",
   "name": "python",
   "nbconvert_exporter": "python",
   "pygments_lexer": "ipython3",
   "version": "3.11.0"
  },
  "orig_nbformat": 4
 },
 "nbformat": 4,
 "nbformat_minor": 2
}
